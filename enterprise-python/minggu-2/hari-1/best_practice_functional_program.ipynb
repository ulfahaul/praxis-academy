{
 "cells": [
  {
   "cell_type": "markdown",
   "metadata": {},
   "source": [
    "## Functional Programming"
   ]
  },
  {
   "cell_type": "code",
   "execution_count": 1,
   "metadata": {},
   "outputs": [
    {
     "data": {
      "text/plain": [
       "7"
      ]
     },
     "execution_count": 1,
     "metadata": {},
     "output_type": "execute_result"
    }
   ],
   "source": [
    "def add(a, b):\n",
    "    return a + b\n",
    "\n",
    "plus = add\n",
    "\n",
    "plus(3, 4)"
   ]
  },
  {
   "cell_type": "markdown",
   "metadata": {},
   "source": [
    "### Lambda\n",
    "The “lambda” syntax allows you to create function definitions in a declarative way. "
   ]
  },
  {
   "cell_type": "code",
   "execution_count": 3,
   "metadata": {},
   "outputs": [
    {
     "data": {
      "text/plain": [
       "7"
      ]
     },
     "execution_count": 3,
     "metadata": {},
     "output_type": "execute_result"
    }
   ],
   "source": [
    "(lambda a, b: a + b)(3, 4)  # returns 7"
   ]
  },
  {
   "cell_type": "code",
   "execution_count": 4,
   "metadata": {},
   "outputs": [
    {
     "data": {
      "text/plain": [
       "7"
      ]
     },
     "execution_count": 4,
     "metadata": {},
     "output_type": "execute_result"
    }
   ],
   "source": [
    "addition = lambda a, b: a + b\n",
    "addition(3, 4)  # returns 7"
   ]
  },
  {
   "cell_type": "code",
   "execution_count": 5,
   "metadata": {},
   "outputs": [
    {
     "data": {
      "text/plain": [
       "['Isaac Asimov',\n",
       " 'Ray Bradbury',\n",
       " 'Octavia Butler',\n",
       " 'Neal Stephenson',\n",
       " 'Margaret Atwood',\n",
       " 'Usula K Le Guin']"
      ]
     },
     "execution_count": 5,
     "metadata": {},
     "output_type": "execute_result"
    }
   ],
   "source": [
    "authors = ['Octavia Butler', 'Isaac Asimov', 'Neal Stephenson', 'Margaret Atwood', 'Usula K Le Guin', 'Ray Bradbury']\n",
    "sorted(authors, key=len)  # Returns list ordered by length of author name"
   ]
  },
  {
   "cell_type": "code",
   "execution_count": 6,
   "metadata": {},
   "outputs": [
    {
     "data": {
      "text/plain": [
       "['Isaac Asimov',\n",
       " 'Margaret Atwood',\n",
       " 'Ray Bradbury',\n",
       " 'Octavia Butler',\n",
       " 'Usula K Le Guin',\n",
       " 'Neal Stephenson']"
      ]
     },
     "execution_count": 6,
     "metadata": {},
     "output_type": "execute_result"
    }
   ],
   "source": [
    "sorted(authors, key=lambda name: name.split()[-1])  # Returns list ordered alphabetically by last name."
   ]
  },
  {
   "cell_type": "markdown",
   "metadata": {},
   "source": [
    "### Functools"
   ]
  },
  {
   "cell_type": "code",
   "execution_count": 10,
   "metadata": {},
   "outputs": [
    {
     "name": "stdout",
     "output_type": "stream",
     "text": [
      "[2, 4, 6, 8, 10, 12]\n",
      "720\n"
     ]
    }
   ],
   "source": [
    "from functools import reduce\n",
    "\n",
    "val = [1, 2, 3, 4, 5, 6]\n",
    "\n",
    "# Multiply every item by two\n",
    "print(list(map(lambda x: x * 2, val))) # [2, 4, 6, 8, 10, 12]\n",
    "# Take the factorial by multiplying the value so far to the next item\n",
    "print(reduce(lambda x,y : x * y, val, 1)) # 1 * 1 * 2 * 3 * 4 * 5 * 6"
   ]
  },
  {
   "cell_type": "markdown",
   "metadata": {},
   "source": [
    "### Pure Function\n",
    "When possible and reasonably convenient, try to keep functions “pure”, and keep state that changes in well-thought-out, well marked places. This makes unit testing a lot easier – you avoid having to do as much set-up, tear-down, and mocking, and the tests are more likely to be predictable regardless of the order they run in."
   ]
  },
  {
   "cell_type": "code",
   "execution_count": null,
   "metadata": {},
   "outputs": [],
   "source": [
    "# Non-functional example\n",
    "dictionary = ['fox', 'boss', 'orange', 'toes', 'fairy', 'cup']\n",
    "def puralize(words):\n",
    "   for i in range(len(words)):\n",
    "       word = words[i]\n",
    "       if word.endswith('s') or word.endswith('x'):\n",
    "           word += 'es'\n",
    "       if word.endswith('y'):\n",
    "           word = word[:-1] + 'ies'\n",
    "       else:\n",
    "           word += 's'\n",
    "       words[i] = word\n",
    "\n",
    "def test_pluralize():\n",
    "    pluralize(dictionary)\n",
    "    assert dictionary == ['foxes', 'bosses', 'oranges', 'toeses', 'fairies', 'cups']\n",
    "\n",
    "test_pluralize()"
   ]
  },
  {
   "cell_type": "code",
   "execution_count": 19,
   "metadata": {},
   "outputs": [],
   "source": [
    "dictionary = ['fox', 'boss', 'orange', 'toes', 'fairy', 'cup']\n",
    "def puralize(words):\n",
    "    result = []\n",
    "    for word in words:\n",
    "       word = words[i]\n",
    "       if word.endswith('s') or word.endswith('x'):\n",
    "           plural = word + 'es'\n",
    "       if word.endswith('y'):\n",
    "           plural = word[:-1] + 'ies'\n",
    "       else:\n",
    "           plural = +  's'\n",
    "       result.append(plural)\n",
    "    return result\n",
    "\n",
    "def test_pluralize():\n",
    "    result = pluralize(dictionary)\n",
    "    assert result == ['foxes', 'bosses', 'oranges', 'toeses', 'fairies', 'cups']"
   ]
  },
  {
   "cell_type": "markdown",
   "metadata": {},
   "source": [
    "### Understanding (and avoiding) mutability"
   ]
  },
  {
   "cell_type": "code",
   "execution_count": 26,
   "metadata": {},
   "outputs": [
    {
     "data": {
      "text/plain": [
       "['bar', 'foo', 'bar']"
      ]
     },
     "execution_count": 26,
     "metadata": {},
     "output_type": "execute_result"
    }
   ],
   "source": [
    "def add_bar(items=[]):\n",
    "    items.append('bar')\n",
    "    return items\n",
    "\n",
    "l = add_bar()  # l is ['bar']\n",
    "l.append('foo')\n",
    "add_bar() # returns ['bar', 'foo', 'bar']"
   ]
  },
  {
   "cell_type": "markdown",
   "metadata": {},
   "source": [
    "### Limiting use of classes"
   ]
  },
  {
   "cell_type": "code",
   "execution_count": 27,
   "metadata": {},
   "outputs": [
    {
     "data": {
      "text/plain": [
       "{'abe', 'bertha'}"
      ]
     },
     "execution_count": 27,
     "metadata": {},
     "output_type": "execute_result"
    }
   ],
   "source": [
    "class Bus(object):\n",
    "     passengers = set()\n",
    "     def add_passenger(self, person):\n",
    "        self.passengers.add(person)\n",
    "\n",
    "bus1 = Bus()\n",
    "bus2 = Bus()\n",
    "bus1.add_passenger('abe')\n",
    "bus2.add_passenger('bertha')\n",
    "bus1.passengers  # returns ['abe', 'bertha']\n",
    "bus2.passengers  # also ['abe', 'bertha']"
   ]
  }
 ],
 "metadata": {
  "interpreter": {
   "hash": "916dbcbb3f70747c44a77c7bcd40155683ae19c65e1c03b4aa3499c5328201f1"
  },
  "kernelspec": {
   "display_name": "Python 3.8.10 64-bit",
   "language": "python",
   "name": "python3"
  },
  "language_info": {
   "codemirror_mode": {
    "name": "ipython",
    "version": 3
   },
   "file_extension": ".py",
   "mimetype": "text/x-python",
   "name": "python",
   "nbconvert_exporter": "python",
   "pygments_lexer": "ipython3",
   "version": "3.8.10"
  },
  "orig_nbformat": 4
 },
 "nbformat": 4,
 "nbformat_minor": 2
}
