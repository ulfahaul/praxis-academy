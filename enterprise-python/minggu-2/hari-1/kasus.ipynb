{
 "cells": [
  {
   "cell_type": "markdown",
   "metadata": {},
   "source": [
    "### Assigning function to variable"
   ]
  },
  {
   "cell_type": "code",
   "execution_count": 5,
   "metadata": {},
   "outputs": [
    {
     "name": "stdout",
     "output_type": "stream",
     "text": [
      "25\n"
     ]
    }
   ],
   "source": [
    "a = lambda x: x*x\n",
    "print(a(5))"
   ]
  },
  {
   "cell_type": "markdown",
   "metadata": {},
   "source": [
    "### Passing Function as Parameter"
   ]
  },
  {
   "cell_type": "code",
   "execution_count": 6,
   "metadata": {},
   "outputs": [
    {
     "name": "stdout",
     "output_type": "stream",
     "text": [
      "What's up\n"
     ]
    }
   ],
   "source": [
    "def formalGreeting():\n",
    "    print(\"How are you\")\n",
    "\n",
    "def casualGreeting():\n",
    "    print(\"What's up\")\n",
    "\n",
    "def greet(type, greetFormal, greetCasual):\n",
    "    if type == \"formal\":\n",
    "        return greetFormal()\n",
    "    elif type == \"casual\":\n",
    "        return greetCasual()\n",
    "\n",
    "greet(\"casual\", formalGreeting, casualGreeting)"
   ]
  },
  {
   "cell_type": "markdown",
   "metadata": {},
   "source": [
    "### Higher-Order Functions in Action"
   ]
  },
  {
   "cell_type": "code",
   "execution_count": 31,
   "metadata": {},
   "outputs": [
    {
     "name": "stdout",
     "output_type": "stream",
     "text": [
      "[2, 4, 6]\n"
     ]
    }
   ],
   "source": [
    "# without\n",
    "arr1 = [1,2,3]\n",
    "arr2 = []\n",
    "for i in  range (len(arr1)):\n",
    "        arr2.append(arr1[i] * 2)\n",
    "print(arr2)"
   ]
  },
  {
   "cell_type": "code",
   "execution_count": 20,
   "metadata": {},
   "outputs": [
    {
     "name": "stdout",
     "output_type": "stream",
     "text": [
      "[2, 4, 6]\n"
     ]
    }
   ],
   "source": [
    "#with map\n",
    "arr1 = [1,2,3]\n",
    "arr2 = list(map(lambda x: x * 2, arr1))\n",
    "print(arr2)"
   ]
  },
  {
   "cell_type": "code",
   "execution_count": 30,
   "metadata": {},
   "outputs": [
    {
     "name": "stdout",
     "output_type": "stream",
     "text": [
      "[43, 21, 16, 23, 33]\n"
     ]
    }
   ],
   "source": [
    "#without\n",
    "birthYear = [1975, 1997, 2002, 1995, 1985]\n",
    "ages = []\n",
    "\n",
    "for i in range (len(birthYear)) :\n",
    "        age = 2018 - birthYear[i]\n",
    "        ages.append(age)\n",
    "\n",
    "print(ages)"
   ]
  },
  {
   "cell_type": "code",
   "execution_count": 32,
   "metadata": {},
   "outputs": [
    {
     "name": "stdout",
     "output_type": "stream",
     "text": [
      "[43, 21, 16, 23, 33]\n"
     ]
    }
   ],
   "source": [
    "# with map\n",
    "birthYear = [1975, 1997, 2002, 1995, 1985]\n",
    "ages = list(map(lambda x: 2018 - x , birthYear))\n",
    "print(ages)"
   ]
  },
  {
   "cell_type": "code",
   "execution_count": 49,
   "metadata": {},
   "outputs": [
    {
     "name": "stdout",
     "output_type": "stream",
     "text": [
      "[{'name': 'Mark', 'age': 18}, {'name': 'John', 'age': 27}, {'name': 'Tony', 'age': 24}]\n"
     ]
    }
   ],
   "source": [
    "#without \n",
    "\n",
    "person = [\n",
    "    \n",
    "    { \"name\": 'Mark', \"age\": 18 },\n",
    "    { \"name\": 'John', \"age\": 27 },\n",
    "    { \"name\": 'Jane', \"age\": 14 },\n",
    "    { \"name\": 'Tony', \"age\": 24},\n",
    "]\n",
    "fullAge = []\n",
    "\n",
    "for i in range (len(person)):\n",
    "    if person[i]['age'] >= 18:\n",
    "        fullAge.append(person[i])\n",
    "\n",
    "print(fullAge)\n",
    "\n"
   ]
  },
  {
   "cell_type": "code",
   "execution_count": 51,
   "metadata": {},
   "outputs": [
    {
     "name": "stdout",
     "output_type": "stream",
     "text": [
      "[{'name': 'Mark', 'age': 18}, {'name': 'John', 'age': 27}, {'name': 'Tony', 'age': 24}]\n"
     ]
    }
   ],
   "source": [
    "#with filter\n",
    "person = [\n",
    "    \n",
    "    { \"name\": 'Mark', \"age\": 18 },\n",
    "    { \"name\": 'John', \"age\": 27 },\n",
    "    { \"name\": 'Jane', \"age\": 14 },\n",
    "    { \"name\": 'Tony', \"age\": 24},\n",
    "]\n",
    "fullAge = list(filter(lambda x: x[\"age\"] >=18, person))\n",
    "print(fullAge)"
   ]
  },
  {
   "cell_type": "code",
   "execution_count": 38,
   "metadata": {},
   "outputs": [
    {
     "name": "stdout",
     "output_type": "stream",
     "text": [
      "25\n"
     ]
    }
   ],
   "source": [
    "#without \n",
    "arr = [5, 7, 1, 8, 4]\n",
    "sum = 0\n",
    "\n",
    "for i in range (len(arr)):\n",
    "    sum += arr[i]\n",
    "\n",
    "print(sum)\n",
    "\n"
   ]
  },
  {
   "cell_type": "code",
   "execution_count": 41,
   "metadata": {},
   "outputs": [
    {
     "data": {
      "text/plain": [
       "25"
      ]
     },
     "execution_count": 41,
     "metadata": {},
     "output_type": "execute_result"
    }
   ],
   "source": [
    "#with reduce\n",
    "from functools import reduce\n",
    "\n",
    "arr = [5, 7, 1, 8, 4]\n",
    "reduce (lambda x,y : x+y, arr)\n"
   ]
  },
  {
   "cell_type": "markdown",
   "metadata": {},
   "source": [
    "### Creating Our own Higher-Order Function"
   ]
  },
  {
   "cell_type": "code",
   "execution_count": 55,
   "metadata": {},
   "outputs": [
    {
     "name": "stdout",
     "output_type": "stream",
     "text": [
      "[10, 6, 3, 4, 1]\n"
     ]
    }
   ],
   "source": [
    "strArray = ['JavaScript', 'Python', 'PHP', 'Java', 'C']\n",
    "data = []\n",
    "for d in strArray:\n",
    "    data.append(len(d))\n",
    "print(data)"
   ]
  }
 ],
 "metadata": {
  "interpreter": {
   "hash": "916dbcbb3f70747c44a77c7bcd40155683ae19c65e1c03b4aa3499c5328201f1"
  },
  "kernelspec": {
   "display_name": "Python 3.8.10 64-bit",
   "language": "python",
   "name": "python3"
  },
  "language_info": {
   "codemirror_mode": {
    "name": "ipython",
    "version": 3
   },
   "file_extension": ".py",
   "mimetype": "text/x-python",
   "name": "python",
   "nbconvert_exporter": "python",
   "pygments_lexer": "ipython3",
   "version": "3.8.10"
  },
  "orig_nbformat": 4
 },
 "nbformat": 4,
 "nbformat_minor": 2
}
