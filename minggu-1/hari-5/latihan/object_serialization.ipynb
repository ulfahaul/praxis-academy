{
 "cells": [
  {
   "cell_type": "markdown",
   "metadata": {},
   "source": [
    "pickle — Python Object Serialization\n",
    "\n",
    "pickle.dump(obj, file, protocol = None, *, fix_imports = True)\n",
    "This is used to write a pickled representation of obj to the open file object file."
   ]
  },
  {
   "cell_type": "code",
   "execution_count": 12,
   "metadata": {},
   "outputs": [
    {
     "name": "stdout",
     "output_type": "stream",
     "text": [
      "<class '_io.StringIO'>\n",
      "[<__main__.SimpleObject object at 0x7fe30d592d60>, <__main__.SimpleObject object at 0x7fe30d592400>, <__main__.SimpleObject object at 0x7fe304079ee0>]\n",
      "WRITING: pickle (elkcip)\n",
      "WRITING: cPickle (elkciPc)\n",
      "WRITING: last (tsal)\n"
     ]
    }
   ],
   "source": [
    "# Python program to illustrate\n",
    "# pickle.dump()\n",
    "import pickle\n",
    "import io\n",
    "\n",
    "class SimpleObject(object):\n",
    "\n",
    "\tdef __init__(self, name):\n",
    "\t\tself.name = name\n",
    "\t\tl = list(name)\n",
    "\t\tl.reverse()\n",
    "\t\tself.name_backwards = ''.join(l)\n",
    "\t\treturn\n",
    "\n",
    "data = []\n",
    "data.append(SimpleObject('pickle'))\n",
    "data.append(SimpleObject('cPickle'))\n",
    "data.append(SimpleObject('last'))\n",
    "\n",
    "# Simulate a file with StringIO\n",
    "out_s = io.StringIO()\n",
    "print(type(out_s))\n",
    "# Write to the stream\n",
    "print(data)\n",
    "for o in data:\n",
    "\tprint ('WRITING: %s (%s)' % (o.name, o.name_backwards))\n",
    "\t#pickle.dumps(o, out_s)\n",
    "\tout_s.flush()\n",
    "\n"
   ]
  },
  {
   "cell_type": "markdown",
   "metadata": {},
   "source": [
    "pickle.dumps(obj, protocol = None, *, fix_imports = True) \n",
    "This function returns the pickled representation of the object as a bytes object."
   ]
  },
  {
   "cell_type": "code",
   "execution_count": 9,
   "metadata": {},
   "outputs": [
    {
     "name": "stdout",
     "output_type": "stream",
     "text": [
      "PICKLE: b'\\x80\\x04\\x95#\\x00\\x00\\x00\\x00\\x00\\x00\\x00]\\x94}\\x94(\\x8c\\x01a\\x94\\x8c\\x01A\\x94\\x8c\\x01b\\x94K\\x02\\x8c\\x01c\\x94G@\\x08\\x00\\x00\\x00\\x00\\x00\\x00ua.'\n"
     ]
    }
   ],
   "source": [
    "# Python program to illustrate\n",
    "#Picle.dumps()\n",
    "import pickle\n",
    "\n",
    "data = [ { 'a':'A', 'b':2, 'c':3.0 } ]\n",
    "data_string = pickle.dumps(data)\n",
    "print ('PICKLE:', data_string )"
   ]
  },
  {
   "cell_type": "markdown",
   "metadata": {},
   "source": [
    "pickle.load(file, *, fix_imports = True, encoding = “ASCII”, errors = “strict”) \n",
    "\n",
    "This function is equivalent to Unpickler(file).load(). This function is used to read a pickled object representation from the open file object file and return the reconstituted object hierarchy specified."
   ]
  },
  {
   "cell_type": "code",
   "execution_count": 13,
   "metadata": {},
   "outputs": [
    {
     "name": "stdout",
     "output_type": "stream",
     "text": [
      "WRITING: pickle (elkcip)\n",
      "WRITING: cPickle (elkciPc)\n",
      "WRITING: last (tsal)\n"
     ]
    },
    {
     "ename": "TypeError",
     "evalue": "a bytes-like object is required, not 'str'",
     "output_type": "error",
     "traceback": [
      "\u001b[0;31m---------------------------------------------------------------------------\u001b[0m",
      "\u001b[0;31mTypeError\u001b[0m                                 Traceback (most recent call last)",
      "\u001b[1;32m/home/ulfah/praxis-academy/minggu-1/hari-5/object_serialization.ipynb Cell 6'\u001b[0m in \u001b[0;36m<cell line: 36>\u001b[0;34m()\u001b[0m\n\u001b[1;32m     <a href='vscode-notebook-cell:/home/ulfah/praxis-academy/minggu-1/hari-5/object_serialization.ipynb#ch0000005?line=34'>35</a>\u001b[0m \u001b[39mwhile\u001b[39;00m \u001b[39mTrue\u001b[39;00m:\n\u001b[1;32m     <a href='vscode-notebook-cell:/home/ulfah/praxis-academy/minggu-1/hari-5/object_serialization.ipynb#ch0000005?line=35'>36</a>\u001b[0m \t\u001b[39mtry\u001b[39;00m:\n\u001b[0;32m---> <a href='vscode-notebook-cell:/home/ulfah/praxis-academy/minggu-1/hari-5/object_serialization.ipynb#ch0000005?line=36'>37</a>\u001b[0m \t\to \u001b[39m=\u001b[39m pickle\u001b[39m.\u001b[39;49mload(in_s)\n\u001b[1;32m     <a href='vscode-notebook-cell:/home/ulfah/praxis-academy/minggu-1/hari-5/object_serialization.ipynb#ch0000005?line=37'>38</a>\u001b[0m \t\u001b[39mexcept\u001b[39;00m \u001b[39mEOFError\u001b[39;00m:\n\u001b[1;32m     <a href='vscode-notebook-cell:/home/ulfah/praxis-academy/minggu-1/hari-5/object_serialization.ipynb#ch0000005?line=38'>39</a>\u001b[0m \t\t\u001b[39mbreak\u001b[39;00m\n",
      "\u001b[0;31mTypeError\u001b[0m: a bytes-like object is required, not 'str'"
     ]
    }
   ],
   "source": [
    "# Python program to illustrate\n",
    "# pickle.load()\n",
    "import pickle\n",
    "import io\n",
    "\n",
    "class SimpleObject(object):\n",
    "\n",
    "\tdef __init__(self, name):\n",
    "\t\tself.name = name\n",
    "\t\tl = list(name)\n",
    "\t\tl.reverse()\n",
    "\t\tself.name_backwards = ''.join(l)\n",
    "\t\treturn\n",
    "\n",
    "data = []\n",
    "data.append(SimpleObject('pickle'))\n",
    "data.append(SimpleObject('cPickle'))\n",
    "data.append(SimpleObject('last'))\n",
    "\n",
    "# Simulate a file with StringIO\n",
    "out_s = io.StringIO()\n",
    "\n",
    "\n",
    "# Write to the stream\n",
    "for o in data:\n",
    "\tprint ('WRITING: %s (%s)' % (o.name, o.name_backwards))\n",
    "\t#pickle.dump(o, out_s)\n",
    "\tout_s.flush()\n",
    "\t\n",
    "\t\n",
    "# Set up a read-able stream\n",
    "in_s = io.StringIO(out_s.getvalue())\n",
    "\n",
    "# Read the data\n",
    "while True:\n",
    "\ttry:\n",
    "\t\to = pickle.load(in_s)\n",
    "\texcept EOFError:\n",
    "\t\tbreak\n",
    "\telse:\n",
    "\t\tprint ('READ: %s (%s)' % (o.name, o.name_backwards))\n"
   ]
  },
  {
   "cell_type": "markdown",
   "metadata": {},
   "source": [
    "pickle.loads(bytes_object, *, fix_imports = True, encoding = “ASCII”, errors = “strict”) \n",
    "This function is used to read a pickled object representation from a bytes object and return the reconstituted object hierarchy specified."
   ]
  },
  {
   "cell_type": "code",
   "execution_count": 10,
   "metadata": {},
   "outputs": [
    {
     "name": "stdout",
     "output_type": "stream",
     "text": [
      "BEFORE:\n",
      "[{'a': 'A', 'b': 2, 'c': 3.0}]\n",
      "AFTER:\n",
      "[{'a': 'A', 'b': 2, 'c': 3.0}]\n",
      "SAME?: False\n",
      "EQUAL?: True\n"
     ]
    }
   ],
   "source": [
    "# Python program to illustrate\n",
    "# pickle.loads()\n",
    "import pickle\n",
    "import pprint\n",
    "\n",
    "data1 = [ { 'a':'A', 'b':2, 'c':3.0 } ]\n",
    "print ('BEFORE:',)\n",
    "pprint.pprint(data1)\n",
    "\n",
    "data1_string = pickle.dumps(data1)\n",
    "\n",
    "data2 = pickle.loads(data1_string)\n",
    "print ('AFTER:',)\n",
    "pprint.pprint(data2)\n",
    "\n",
    "print ('SAME?:', (data1 is data2))\n",
    "print ('EQUAL?:', (data1 == data2))\n"
   ]
  },
  {
   "cell_type": "markdown",
   "metadata": {},
   "source": [
    "Classes exported by the pickle module: \n",
    "    class pickle.Pickler(file, protocol = None, *, fix_imports = True) \n",
    "    This class takes a binary file for writing a pickle data stream. \n",
    "        dump(obj) – This function is used to write a pickled representation of obj to the open file object given in the constructor.\n",
    "        persistent_id(obj) – If persistent_id() returns None, obj is pickled as usual. This does nothing by default and exists so that any subclass can override it.\n",
    "        Dispatch_table – A pickler object’s dispatch table is a mapping whose keys are classes and whose values are reduction functions. \n",
    "        By default, a pickler object will not have a dispatch_table attribute, and it will instead use the global dispatch table managed by the copyreg module.\n",
    "        Example : The below code creates an instance of pickle.Pickler with a private dispatch table that handles the SomeClass class especially.\n",
    "         \n",
    "\n",
    "f = io.BytesIO()\n",
    "p = pickle.Pickler(f)\n",
    "p.dispatch_table = copyreg.dispatch_table.copy()\n",
    "p.dispatch_table[SomeClass] = reduce_SomeClass"
   ]
  },
  {
   "cell_type": "code",
   "execution_count": 2,
   "metadata": {},
   "outputs": [
    {
     "name": "stdout",
     "output_type": "stream",
     "text": [
      "0: Hi, Geeks! This is line 1\n",
      "0: This is line 2\n",
      "0: Hi, Geeks! This is line 1\n"
     ]
    }
   ],
   "source": [
    "import pickle\n",
    "\n",
    "class TextReader:\n",
    "\t\"\"\"Print and number lines in a text file.\"\"\"\n",
    "\n",
    "\tdef __init__(self, filename):\n",
    "\t\tself.filename = filename\n",
    "\t\tself.file = open(filename)\n",
    "\t\tself.lineno = 0\n",
    "\n",
    "\tdef readline(self):\n",
    "\t\tself.lineno + 1\n",
    "\t\tline = self.file.readline()\n",
    "\t\tif not line:\n",
    "\t\t\treturn None\n",
    "\t\tif line.endswith('\\n'):\n",
    "\t\t\tline = line[:-1]\n",
    "\t\treturn \"%i: %s\" % (self.lineno, line)\n",
    "\n",
    "\tdef __getstate__(self):\n",
    "\t\t# Copy the object's state from self.__dict__ which contains\n",
    "\t\t# all our instance attributes. Always use the dict.copy()\n",
    "\t\t# method to avoid modifying the original state.\n",
    "\t\tstate = self.__dict__.copy()\n",
    "\t\t# Remove the unpicklable entries.\n",
    "\t\tdel state['file']\n",
    "\t\treturn state\n",
    "\n",
    "\tdef __setstate__(self, state):\n",
    "\t\t# Restore instance attributes (i.e., filename and lineno).\n",
    "\t\tself.__dict__.update(state)\n",
    "\t\t# Restore the previously opened file's state. To do so, we need to\n",
    "\t\t# reopen it and read from it until the line count is restored.\n",
    "\t\tfile = open(self.filename)\n",
    "\t\tfor _ in range(self.lineno):\n",
    "\t\t\tfile.readline()\n",
    "\t\t# Finally, save the file.\n",
    "\t\tself.file = file\n",
    "\n",
    "reader = TextReader(\"Geeksforgeeks.txt\")\n",
    "print(reader.readline())\n",
    "print(reader.readline())\n",
    "new_reader = pickle.loads(pickle.dumps(reader))\n",
    "print(new_reader.readline())\n"
   ]
  }
 ],
 "metadata": {
  "interpreter": {
   "hash": "916dbcbb3f70747c44a77c7bcd40155683ae19c65e1c03b4aa3499c5328201f1"
  },
  "kernelspec": {
   "display_name": "Python 3.8.10 64-bit",
   "language": "python",
   "name": "python3"
  },
  "language_info": {
   "codemirror_mode": {
    "name": "ipython",
    "version": 3
   },
   "file_extension": ".py",
   "mimetype": "text/x-python",
   "name": "python",
   "nbconvert_exporter": "python",
   "pygments_lexer": "ipython3",
   "version": "3.8.10"
  },
  "orig_nbformat": 4
 },
 "nbformat": 4,
 "nbformat_minor": 2
}
