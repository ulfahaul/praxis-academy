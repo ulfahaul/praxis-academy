{
 "cells": [
  {
   "cell_type": "markdown",
   "metadata": {},
   "source": [
    "Pickling\n",
    "\n",
    "Pickling is the name of the serialization process in Python. By pickling, we can convert an object hierarchy to a binary format (usually not human readable) that can be stored. To pickle an object we just need to import the pickle module and call the dumps() function passing the object to be pickled as a parameter."
   ]
  },
  {
   "cell_type": "code",
   "execution_count": 3,
   "metadata": {},
   "outputs": [
    {
     "name": "stdout",
     "output_type": "stream",
     "text": [
      "My sheep mary is white and has 4 paws\n",
      "Would you like to see her pickled? Here she is!\n",
      "b'\\x80\\x04\\x95A\\x00\\x00\\x00\\x00\\x00\\x00\\x00\\x8c\\x08__main__\\x94\\x8c\\x05Sheep\\x94\\x93\\x94)\\x81\\x94}\\x94(\\x8c\\x0enumber_of_paws\\x94K\\x04\\x8c\\x05color\\x94\\x8c\\x05white\\x94ub.'\n"
     ]
    }
   ],
   "source": [
    "import pickle\n",
    "\n",
    "class Animal:\n",
    "    def __init__(self, number_of_paws, color):\n",
    "        self.number_of_paws = number_of_paws\n",
    "        self.color = color\n",
    "\n",
    "class Sheep(Animal):\n",
    "     def __init__(self, color):\n",
    "        Animal.__init__(self, 4, color)\n",
    "\n",
    "mary = Sheep(\"white\")\n",
    "\n",
    "print (str.format(\"My sheep mary is {0} and has {1} paws\", mary.color, mary.number_of_paws))\n",
    "my_pickled_mary = pickle.dumps(mary)\n",
    "\n",
    "print (\"Would you like to see her pickled? Here she is!\")\n",
    "print (my_pickled_mary)\n"
   ]
  },
  {
   "cell_type": "code",
   "execution_count": 4,
   "metadata": {},
   "outputs": [
    {
     "name": "stdout",
     "output_type": "stream",
     "text": [
      "My sheep mary is white and has 4 paws\n"
     ]
    }
   ],
   "source": [
    "import pickle\n",
    "\n",
    "class Animal:\n",
    "    def __init__(self, number_of_paws, color):\n",
    "        self.number_of_paws = number_of_paws\n",
    "        self.color = color\n",
    "\n",
    "class Sheep(Animal):\n",
    "    def __init__(self, color):\n",
    "        Animal.__init__(self, 4, color)\n",
    "\n",
    "mary = Sheep(\"white\")\n",
    "\n",
    "print (str.format(\"My sheep mary is {0} and has {1} paws\", mary.color, mary.number_of_paws))\n",
    "my_pickled_mary = pickle.dumps(mary)\n",
    "\n",
    "binary_file = open('my_pickled_mary.bin', mode='wb')\n",
    "my_pickled_mary = pickle.dump(mary, binary_file)\n",
    "binary_file.close()"
   ]
  },
  {
   "cell_type": "markdown",
   "metadata": {},
   "source": [
    "Unpickling\n",
    "\n",
    "The process that takes a binary array and converts it to an object hierarchy is called unpickling.\n",
    "\n",
    "The unpickling process is done by using the load() function of the pickle module and returns a complete object hierarchy from a simple bytes array. Let’s try to use the load function on the example above:"
   ]
  },
  {
   "cell_type": "code",
   "execution_count": 5,
   "metadata": {},
   "outputs": [
    {
     "name": "stdout",
     "output_type": "stream",
     "text": [
      "Dolly is black \n",
      "Mary is white \n"
     ]
    }
   ],
   "source": [
    "import pickle\n",
    "\n",
    "class Animal:\n",
    "    def __init__(self, number_of_paws, color):\n",
    "        self.number_of_paws = number_of_paws\n",
    "        self.color = color\n",
    "\n",
    "class Sheep(Animal):\n",
    "    def __init__(self, color):\n",
    "        Animal.__init__(self, 4, color)\n",
    "\n",
    "#Step 1: Let's create the sheep Mary\n",
    "mary = Sheep(\"white\")\n",
    "\n",
    "# Step 2: Let's pickle Mary\n",
    "my_pickled_mary = pickle.dumps(mary)\n",
    "\n",
    "#Step 3: Now, let's unpickle our sheep Mary creating another instance, another sheep... Dolly!\n",
    "dolly = pickle.loads(my_pickled_mary)\n",
    "\n",
    "#Dolly and Mary are two different objects, in fact if we specify another color for dolly\n",
    "#there are no conseguencies for Mary\n",
    "\n",
    "dolly.color = \"black\"\n",
    "\n",
    "print (str.format(\"Dolly is {0} \", dolly.color))\n",
    "print (str.format(\"Mary is {0} \", mary.color))"
   ]
  },
  {
   "cell_type": "code",
   "execution_count": 6,
   "metadata": {},
   "outputs": [
    {
     "ename": "UnpicklingError",
     "evalue": "could not find MARK",
     "output_type": "error",
     "traceback": [
      "\u001b[0;31m---------------------------------------------------------------------------\u001b[0m",
      "\u001b[0;31mUnpicklingError\u001b[0m                           Traceback (most recent call last)",
      "Input \u001b[0;32mIn [6]\u001b[0m, in \u001b[0;36m<cell line: 5>\u001b[0;34m()\u001b[0m\n\u001b[1;32m      2\u001b[0m my_custom_pickle \u001b[39m=\u001b[39m \u001b[39mbytes\u001b[39m(\u001b[39m\"\u001b[39m\u001b[39mthis is unpicklable\u001b[39m\u001b[39m\"\u001b[39m, encoding\u001b[39m=\u001b[39m\u001b[39m\"\u001b[39m\u001b[39mUTF-8\u001b[39m\u001b[39m\"\u001b[39m)\n\u001b[1;32m      4\u001b[0m \u001b[39m# this next statement will raise a _pickle.UnpicklingError\u001b[39;00m\n\u001b[0;32m----> 5\u001b[0m my_new_object \u001b[39m=\u001b[39m pickle\u001b[39m.\u001b[39;49mloads(my_custom_pickle)\n",
      "\u001b[0;31mUnpicklingError\u001b[0m: could not find MARK"
     ]
    }
   ],
   "source": [
    "import pickle\n",
    "my_custom_pickle = bytes(\"this is unpicklable\", encoding=\"UTF-8\")\n",
    "\n",
    "# this next statement will raise a _pickle.UnpicklingError\n",
    "my_new_object = pickle.loads(my_custom_pickle)\n"
   ]
  },
  {
   "cell_type": "markdown",
   "metadata": {},
   "source": [
    "The problem when you have unpicklable object in the hierarchy of the object you want to pickle is that this prevents you to serialize (and store) the entire object. Fortunately, Python offers you two convenient methods to specify what you want to pickle and how to re-initialize (during the unpickling process) the objects that you haven’t pickled before. These methods are setstate() and getstate()"
   ]
  },
  {
   "cell_type": "code",
   "execution_count": 4,
   "metadata": {},
   "outputs": [
    {
     "name": "stdout",
     "output_type": "stream",
     "text": [
      "I'm Dave, and I,ve meditated 0 times'\n",
      "I'm Dave, and I don't have a beginner mind yet because I've meditated only 0 times'\n"
     ]
    }
   ],
   "source": [
    "import pickle\n",
    "\n",
    "class my_zen_class:\n",
    "    number_of_meditations = 0\n",
    "\n",
    "    def __init__(self, name):\n",
    "            self.number_of_meditations = 0\n",
    "            self.name = name\n",
    "        \n",
    "    def meditate (self):\n",
    "            self.number_of_meditations = self.number_of_meditations\n",
    "\n",
    "    def __getstate__ (self):\n",
    "            # this method is called when you are \n",
    "            # going to pickle the class, to know what to pickle\n",
    "            state = self.__dict__.copy()\n",
    "            # You will never get the Buddha state if you count\n",
    "            # meditations, so \n",
    "            # don't pickle this counter, the next time you will just \n",
    "            # start meditating from scratch :)\n",
    "            del state['number_of_meditations']\n",
    "\n",
    "            return state\n",
    "        \n",
    "    def __setstate__ (self,state):\n",
    "            # this method is called when you are going to\n",
    "            # unpickle the class\n",
    "            # if you need some initalization after the\n",
    "            # unpicking you can do it here\n",
    "\n",
    "            self.__dict__.update(state)\n",
    "        \n",
    "# start meditating\n",
    "my_zen_object = my_zen_class(\"Dave\")\n",
    "for i in range(100):\n",
    "    my_zen_object.meditate()\n",
    "\n",
    "#Now I pickle my meditation experience\n",
    "print(str.format(\"I'm {0}, and I,ve meditated {1} times'\", my_zen_object.name, my_zen_object.number_of_meditations))\n",
    "my_pickled_zen_object = pickle.dumps(my_zen_object)\n",
    "my_zen_object = None\n",
    "\n",
    "# Now I get my meditation experience back\n",
    "my_new_zen_object = pickle.loads(my_pickled_zen_object)\n",
    "\n",
    "# As expected, the number_of_meditations property \n",
    "# has not been restored because it hasn't been pickled\n",
    "\n",
    "print(str.format(\"I'm {0}, and I don't have a beginner mind yet because I've meditated only {1} times'\", my_new_zen_object.name, my_new_zen_object.number_of_meditations))\n",
    "        \n"
   ]
  }
 ],
 "metadata": {
  "interpreter": {
   "hash": "916dbcbb3f70747c44a77c7bcd40155683ae19c65e1c03b4aa3499c5328201f1"
  },
  "kernelspec": {
   "display_name": "Python 3.8.10 64-bit",
   "language": "python",
   "name": "python3"
  },
  "language_info": {
   "codemirror_mode": {
    "name": "ipython",
    "version": 3
   },
   "file_extension": ".py",
   "mimetype": "text/x-python",
   "name": "python",
   "nbconvert_exporter": "python",
   "pygments_lexer": "ipython3",
   "version": "3.8.10"
  },
  "orig_nbformat": 4
 },
 "nbformat": 4,
 "nbformat_minor": 2
}
